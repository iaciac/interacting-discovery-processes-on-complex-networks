{
 "cells": [
  {
   "cell_type": "code",
   "execution_count": 1,
   "metadata": {},
   "outputs": [
    {
     "name": "stdout",
     "output_type": "stream",
     "text": [
      "Populating the interactive namespace from numpy and matplotlib\n"
     ]
    }
   ],
   "source": [
    "from scipy.integrate import odeint\n",
    "from scipy.optimize import curve_fit\n",
    "import numpy as np\n",
    "import networkx as nx\n",
    "import pandas as pd\n",
    "from scipy import stats\n",
    "import pickle\n",
    "\n",
    "def Deqs(x, t, A, rho, nu, M0):\n",
    "    \"\"\"\n",
    "    System of equations from Eq. 4 --> https://journals.aps.org/prl/abstract/10.1103/PhysRevLett.125.248301\n",
    "    \"\"\"\n",
    "\n",
    "    N = A.shape[0]\n",
    "    numerator = (np.multiply(M0, 1 + np.sum(A, axis=1)) + np.multiply(nu, x) + np.multiply((nu+1),(A.dot(x))))\n",
    "    denominator = ( np.multiply(1.*rho,t) + (A + np.identity(N)).dot(M0 + np.multiply((nu+1), x)))\n",
    "    dxdt = numerator/denominator\n",
    "    \n",
    "    return dxdt\n",
    "\n",
    "def get_heaps_UMT(G, rho, nu, M0):\n",
    "    \n",
    "    A = nx.to_numpy_array(G)\n",
    "    N = A.shape[0]\n",
    "\n",
    "    x0 = [0]*N\n",
    "    t = np.arange(10000)\n",
    "\n",
    "    params = (A, rho, nu, M0)\n",
    "    res = odeint(Deqs, x0, t, args=params)\n",
    "\n",
    "    analytical_heaps={i: res[:,i] for i in range(N)} \n",
    "    \n",
    "    return t, analytical_heaps\n",
    "\n",
    "def reduce_number_of_points(x,y,bins):\n",
    "    bin_means, bin_edges, binnumber = stats.binned_statistic(x, y, statistic='mean', bins=bins)\n",
    "    bin_width = (bin_edges[1] - bin_edges[0])\n",
    "    bin_centers = bin_edges[1:] - bin_width/2\n",
    "    return bin_centers, bin_means\n",
    "\n",
    "def get_simulated_heaps_to_save(node, mean_heaps, return_x=False):\n",
    "    heap_seq = mean_heaps[node]\n",
    "    #reducing number of points of the simulations\n",
    "    x = np.arange(len(heap_seq))\n",
    "    x_red, y_red = reduce_number_of_points(x,heap_seq,bins=np.logspace(0,4,25))\n",
    "    if return_x: return x_red, y_red\n",
    "    else: return y_red"
   ]
  },
  {
   "cell_type": "markdown",
   "metadata": {},
   "source": [
    "# Toy synthetic networks (4 nodes) -- Fig. 3\n",
    "In this notebook I integrate Eq.(4) for different toy networks and save the results together with the ones from simulations (run separately)"
   ]
  },
  {
   "cell_type": "markdown",
   "metadata": {},
   "source": [
    "Net1: star"
   ]
  },
  {
   "cell_type": "code",
   "execution_count": 2,
   "metadata": {
    "collapsed": true
   },
   "outputs": [],
   "source": [
    "#Analytical heaps\n",
    "\n",
    "rho = 6\n",
    "nu = 3\n",
    "M0 = nu+1\n",
    "\n",
    "G = nx.DiGraph()\n",
    "G.add_edge(0,1)\n",
    "G.add_edge(0,2)\n",
    "G.add_edge(0,3)\n",
    "\n",
    "t, analytical_heaps = get_heaps_UMT(G, rho, nu, M0)"
   ]
  },
  {
   "cell_type": "code",
   "execution_count": 3,
   "metadata": {
    "collapsed": true
   },
   "outputs": [],
   "source": [
    "#Reading simulated heaps\n",
    "filename=\"../results/Simulations_small_nets/mean_heaps_4nodes_star_DIR_rho%inu%i.p\"%(rho, nu)\n",
    "mean_heaps = pickle.load(open(filename, \"rb\" ) )\n",
    "\n",
    "#Saving Analytical \n",
    "df = pd.DataFrame()\n",
    "df['time_ana'] = t\n",
    "df['D_ana_n1'] = analytical_heaps[0]\n",
    "df['D_ana_n2'] = analytical_heaps[1]\n",
    "df['D_ana_n3'] = analytical_heaps[2]\n",
    "df['D_ana_n4'] = analytical_heaps[3]\n",
    "#Removing half of the rows (I don't need all these points)\n",
    "df = df.iloc[::2, :]\n",
    "filename = \"../results/Ready_to_plot/Heaps_panel_anal_heaps_net1.csv\"\n",
    "df.to_csv(filename, index=None, header=True, sep=',')\n",
    "\n",
    "#Saving Simulated\n",
    "df = pd.DataFrame()\n",
    "df['time_sim'], df['D_sim_n1'] = get_simulated_heaps_to_save(0, mean_heaps, return_x=True)\n",
    "df['D_sim_n2'] = get_simulated_heaps_to_save(1, mean_heaps)\n",
    "df['D_sim_n3'] = get_simulated_heaps_to_save(2, mean_heaps)\n",
    "df['D_sim_n4'] = get_simulated_heaps_to_save(3, mean_heaps)\n",
    "df = df.dropna(how='all', subset=['D_sim_n1','D_sim_n2','D_sim_n3','D_sim_n4'])\n",
    "\n",
    "filename = \"../results/Ready_to_plot/Heaps_panel_sim_heaps_net1.csv\"\n",
    "df.to_csv(filename, index=None, header=True, sep=',')"
   ]
  },
  {
   "cell_type": "markdown",
   "metadata": {},
   "source": [
    "Net 2: chain"
   ]
  },
  {
   "cell_type": "code",
   "execution_count": 4,
   "metadata": {
    "collapsed": true
   },
   "outputs": [],
   "source": [
    "#Analytical heaps\n",
    "\n",
    "rho = 6\n",
    "nu = 3\n",
    "M0 = nu+1\n",
    "\n",
    "G = nx.DiGraph()\n",
    "G.add_edge(0,1)\n",
    "G.add_edge(1,2)\n",
    "G.add_edge(2,3)\n",
    "\n",
    "t, analytical_heaps = get_heaps_UMT(G, rho, nu, M0)"
   ]
  },
  {
   "cell_type": "code",
   "execution_count": 5,
   "metadata": {
    "collapsed": true
   },
   "outputs": [],
   "source": [
    "#Reading simulated heaps\n",
    "filename=\"../results/Simulations_small_nets/mean_heaps_4nodes_chain_DIR_rho%inu%i.p\"%(rho, nu)\n",
    "mean_heaps = pickle.load(open(filename, \"rb\" ) )\n",
    "\n",
    "#Saving Analytical \n",
    "df = pd.DataFrame()\n",
    "df['time_ana'] = t\n",
    "df['D_ana_n1'] = analytical_heaps[0]\n",
    "df['D_ana_n2'] = analytical_heaps[1]\n",
    "df['D_ana_n3'] = analytical_heaps[2]\n",
    "df['D_ana_n4'] = analytical_heaps[3]\n",
    "#Removing half of the rows (I don't need all these points)\n",
    "df = df.iloc[::2, :]\n",
    "filename = \"../results/Ready_to_plot/Heaps_panel_anal_heaps_net2.csv\"\n",
    "df.to_csv(filename, index=None, header=True, sep=',')\n",
    "\n",
    "#Saving Simulated\n",
    "df = pd.DataFrame()\n",
    "df['time_sim'], df['D_sim_n1'] = get_simulated_heaps_to_save(0, mean_heaps, return_x=True)\n",
    "df['D_sim_n2'] = get_simulated_heaps_to_save(1, mean_heaps)\n",
    "df['D_sim_n3'] = get_simulated_heaps_to_save(2, mean_heaps)\n",
    "df['D_sim_n4'] = get_simulated_heaps_to_save(3, mean_heaps)\n",
    "df = df.dropna(how='all', subset=['D_sim_n1','D_sim_n2','D_sim_n3','D_sim_n4'])\n",
    "\n",
    "filename = \"../results/Ready_to_plot/Heaps_panel_sim_heaps_net2.csv\"\n",
    "df.to_csv(filename, index=None, header=True, sep=',')"
   ]
  },
  {
   "cell_type": "markdown",
   "metadata": {},
   "source": [
    "Net 3: 4 nodes with triangle"
   ]
  },
  {
   "cell_type": "code",
   "execution_count": 3,
   "metadata": {},
   "outputs": [],
   "source": [
    "#Analytical heaps\n",
    "\n",
    "rho = 6\n",
    "nu = 3\n",
    "M0 = nu+1\n",
    "\n",
    "G = nx.DiGraph()\n",
    "G.add_edge(0,1)\n",
    "G.add_edge(1,2)\n",
    "G.add_edge(2,3)\n",
    "G.add_edge(3,1)\n",
    "\n",
    "t, analytical_heaps = get_heaps_UMT(G, rho, nu, M0)"
   ]
  },
  {
   "cell_type": "code",
   "execution_count": 7,
   "metadata": {
    "collapsed": true
   },
   "outputs": [],
   "source": [
    "#Reading simulated heaps\n",
    "filename=\"../results/Simulations_small_nets/mean_heaps_4nodes_chain_and_tri_DIR_rho%inu%i.p\"%(rho, nu)\n",
    "mean_heaps = pickle.load(open(filename, \"rb\" ) )\n",
    "\n",
    "#Saving Analytical \n",
    "df = pd.DataFrame()\n",
    "df['time_ana'] = t\n",
    "df['D_ana_n1'] = analytical_heaps[0]\n",
    "df['D_ana_n2'] = analytical_heaps[1]\n",
    "df['D_ana_n3'] = analytical_heaps[2]\n",
    "df['D_ana_n4'] = analytical_heaps[3]\n",
    "#Removing half of the rows (I don't need all these points)\n",
    "df = df.iloc[::2, :]\n",
    "filename = \"../results/Ready_to_plot/Heaps_panel_anal_heaps_net3.csv\"\n",
    "df.to_csv(filename, index=None, header=True, sep=',')\n",
    "\n",
    "#Saving Simulated\n",
    "df = pd.DataFrame()\n",
    "df['time_sim'], df['D_sim_n1'] = get_simulated_heaps_to_save(0, mean_heaps, return_x=True)\n",
    "df['D_sim_n2'] = get_simulated_heaps_to_save(1, mean_heaps)\n",
    "df['D_sim_n3'] = get_simulated_heaps_to_save(2, mean_heaps)\n",
    "df['D_sim_n4'] = get_simulated_heaps_to_save(3, mean_heaps)\n",
    "df = df.dropna(how='all', subset=['D_sim_n1','D_sim_n2','D_sim_n3','D_sim_n4'])\n",
    "\n",
    "filename = \"../results/Ready_to_plot/Heaps_panel_sim_heaps_net3.csv\"\n",
    "df.to_csv(filename, index=None, header=True, sep=',')"
   ]
  },
  {
   "cell_type": "markdown",
   "metadata": {
    "collapsed": true
   },
   "source": [
    "Net 4: 4 nodes not sym "
   ]
  },
  {
   "cell_type": "code",
   "execution_count": 8,
   "metadata": {
    "collapsed": true
   },
   "outputs": [],
   "source": [
    "#Analytical heaps\n",
    "\n",
    "rho = 6\n",
    "nu = 3\n",
    "M0 = nu+1\n",
    "\n",
    "G = nx.DiGraph()\n",
    "G.add_edge(0,1)\n",
    "G.add_edge(1,2)\n",
    "G.add_edge(2,3)\n",
    "G.add_edge(1,3)\n",
    "\n",
    "t, analytical_heaps = get_heaps_UMT(G, rho, nu, M0)"
   ]
  },
  {
   "cell_type": "code",
   "execution_count": 9,
   "metadata": {
    "collapsed": true
   },
   "outputs": [],
   "source": [
    "#Reading simulated heaps\n",
    "filename=\"../results/Simulations_small_nets/mean_heaps_4nodes_notsym_DIR_rho%inu%i.p\"%(rho, nu)\n",
    "mean_heaps = pickle.load(open(filename, \"rb\" ) )\n",
    "\n",
    "#Saving Analytical \n",
    "df = pd.DataFrame()\n",
    "df['time_ana'] = t\n",
    "df['D_ana_n1'] = analytical_heaps[0]\n",
    "df['D_ana_n2'] = analytical_heaps[1]\n",
    "df['D_ana_n3'] = analytical_heaps[2]\n",
    "df['D_ana_n4'] = analytical_heaps[3]\n",
    "#Removing half of the rows (I don't need all these points)\n",
    "df = df.iloc[::2, :]\n",
    "filename = \"../results/Ready_to_plot/Heaps_panel_anal_heaps_net4.csv\"\n",
    "df.to_csv(filename, index=None, header=True, sep=',')\n",
    "\n",
    "#Saving Simulated\n",
    "df = pd.DataFrame()\n",
    "df['time_sim'], df['D_sim_n1'] = get_simulated_heaps_to_save(0, mean_heaps, return_x=True)\n",
    "df['D_sim_n2'] = get_simulated_heaps_to_save(1, mean_heaps)\n",
    "df['D_sim_n3'] = get_simulated_heaps_to_save(2, mean_heaps)\n",
    "df['D_sim_n4'] = get_simulated_heaps_to_save(3, mean_heaps)\n",
    "df = df.dropna(how='all', subset=['D_sim_n1','D_sim_n2','D_sim_n3','D_sim_n4'])\n",
    "\n",
    "filename = \"../results/Ready_to_plot/Heaps_panel_sim_heaps_net4.csv\"\n",
    "df.to_csv(filename, index=None, header=True, sep=',')"
   ]
  },
  {
   "cell_type": "markdown",
   "metadata": {},
   "source": [
    "Net 5: 4 nodes with triangle (out)"
   ]
  },
  {
   "cell_type": "code",
   "execution_count": 10,
   "metadata": {
    "collapsed": true
   },
   "outputs": [],
   "source": [
    "#Analytical heaps\n",
    "\n",
    "rho = 6\n",
    "nu = 3\n",
    "M0 = nu+1\n",
    "\n",
    "G = nx.DiGraph()\n",
    "G.add_edge(0,1)\n",
    "G.add_edge(1,3)\n",
    "G.add_edge(3,0)\n",
    "G.add_edge(1,2)\n",
    "\n",
    "t, analytical_heaps = get_heaps_UMT(G, rho, nu, M0)"
   ]
  },
  {
   "cell_type": "code",
   "execution_count": 11,
   "metadata": {
    "collapsed": true
   },
   "outputs": [],
   "source": [
    "#Reading simulated heaps\n",
    "filename=\"../results/Simulations_small_nets/mean_heaps_4nodes_tri_out_DIR_rho%inu%i.p\"%(rho, nu)\n",
    "mean_heaps = pickle.load(open(filename, \"rb\" ) )\n",
    "\n",
    "#Saving Analytical \n",
    "df = pd.DataFrame()\n",
    "df['time_ana'] = t\n",
    "df['D_ana_n1'] = analytical_heaps[0]\n",
    "df['D_ana_n2'] = analytical_heaps[1]\n",
    "df['D_ana_n3'] = analytical_heaps[2]\n",
    "df['D_ana_n4'] = analytical_heaps[3]\n",
    "#Removing half of the rows (I don't need all these points)\n",
    "df = df.iloc[::2, :]\n",
    "filename = \"../results/Ready_to_plot/Heaps_panel_anal_heaps_net5.csv\"\n",
    "df.to_csv(filename, index=None, header=True, sep=',')\n",
    "\n",
    "#Saving Simulated\n",
    "df = pd.DataFrame()\n",
    "df['time_sim'], df['D_sim_n1'] = get_simulated_heaps_to_save(0, mean_heaps, return_x=True)\n",
    "df['D_sim_n2'] = get_simulated_heaps_to_save(1, mean_heaps)\n",
    "df['D_sim_n3'] = get_simulated_heaps_to_save(2, mean_heaps)\n",
    "df['D_sim_n4'] = get_simulated_heaps_to_save(3, mean_heaps)\n",
    "df = df.dropna(how='all', subset=['D_sim_n1','D_sim_n2','D_sim_n3','D_sim_n4'])\n",
    "\n",
    "filename = \"../results/Ready_to_plot/Heaps_panel_sim_heaps_net5.csv\"\n",
    "df.to_csv(filename, index=None, header=True, sep=',')"
   ]
  }
 ],
 "metadata": {
  "kernelspec": {
   "display_name": "Python 3",
   "language": "python",
   "name": "python3"
  },
  "language_info": {
   "codemirror_mode": {
    "name": "ipython",
    "version": 3
   },
   "file_extension": ".py",
   "mimetype": "text/x-python",
   "name": "python",
   "nbconvert_exporter": "python",
   "pygments_lexer": "ipython3",
   "version": "3.8.5"
  }
 },
 "nbformat": 4,
 "nbformat_minor": 2
}
