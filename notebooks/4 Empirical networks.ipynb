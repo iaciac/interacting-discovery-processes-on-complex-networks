{
 "cells": [
  {
   "cell_type": "code",
   "execution_count": 13,
   "metadata": {},
   "outputs": [
    {
     "name": "stdout",
     "output_type": "stream",
     "text": [
      "Populating the interactive namespace from numpy and matplotlib\n"
     ]
    }
   ],
   "source": [
    "from scipy.integrate import odeint\n",
    "import matplotlib.pyplot as plt\n",
    "from scipy.optimize import curve_fit\n",
    "import numpy as np\n",
    "import networkx as nx\n",
    "from multiprocessing import Pool\n",
    "import pandas as pd\n",
    "from scipy import stats\n",
    "from matplotlib.lines import Line2D\n",
    "from scipy.stats import spearmanr, pearsonr\n",
    "import pickle\n",
    "%pylab inline\n",
    "\n",
    "def Deqs(x, t, A, rho, nu, M0):\n",
    "\n",
    "    N = A.shape[0]\n",
    "    numerator = (np.multiply(M0, 1 + np.sum(A, axis=1)) + np.multiply(nu, x) + np.multiply((nu+1),(A.dot(x))))\n",
    "    denominator = ( np.multiply(1.*rho,t) + (A + np.identity(N)).dot(M0 + np.multiply((nu+1), x)))\n",
    "    #dxdt = numerator/denominator\n",
    "    dxdt = numerator/denominator\n",
    "    \n",
    "    return dxdt\n",
    "\n",
    "def get_heaps_UMT(G, rho, nu, M0, tmax=10000):\n",
    "    \n",
    "    A = nx.to_numpy_array(G)\n",
    "    N = A.shape[0]\n",
    "\n",
    "    x0 = [0]*N\n",
    "    t = np.arange(tmax)\n",
    "\n",
    "    params = (A, rho, nu, M0)\n",
    "    res = odeint(Deqs, x0, t, args=params)\n",
    "\n",
    "    analytical_heaps={i: res[:,i] for i in range(N)} \n",
    "    \n",
    "    return t, analytical_heaps\n",
    "\n",
    "def reduce_number_of_points(x,y,bins):\n",
    "    bin_means, bin_edges, binnumber = stats.binned_statistic(x, y, statistic='mean', bins=bins)\n",
    "    bin_width = (bin_edges[1] - bin_edges[0])\n",
    "    bin_centers = bin_edges[1:] - bin_width/2\n",
    "    return bin_centers, bin_means\n",
    "\n",
    "def get_alpha_centrality(G, alpha):\n",
    "    A = nx.to_numpy_matrix(G)\n",
    "    alpha = float(alpha)\n",
    "    res = np.linalg.inv((np.identity(A.shape[0]) - alpha*A)).dot(np.ones(A.shape[0]))\n",
    "    return {n:r for n, r in enumerate(np.array(res).flatten())}"
   ]
  },
  {
   "cell_type": "markdown",
   "metadata": {},
   "source": [
    "# Heaps law and centrality in empirical networks"
   ]
  },
  {
   "cell_type": "markdown",
   "metadata": {},
   "source": [
    "## (a) Zachary Karate Club (ZKC)"
   ]
  },
  {
   "cell_type": "code",
   "execution_count": 14,
   "metadata": {},
   "outputs": [],
   "source": [
    "G = nx.karate_club_graph()"
   ]
  },
  {
   "cell_type": "code",
   "execution_count": 36,
   "metadata": {},
   "outputs": [
    {
     "name": "stdout",
     "output_type": "stream",
     "text": [
      "34 78 4.58823529412 6.725697727631747\n"
     ]
    }
   ],
   "source": [
    "print(G.order(), G.size(), 1.*sum(dict(G.degree()).values())/G.order(), max(abs(numpy.linalg.eig(nx.to_numpy_matrix(G))[0])))"
   ]
  },
  {
   "cell_type": "code",
   "execution_count": 15,
   "metadata": {},
   "outputs": [],
   "source": [
    "#Model parameters\n",
    "rho = 10\n",
    "nu = 1\n",
    "M0 = nu+1\n",
    "tmax = 10000\n",
    "\n",
    "#Solving the model analytically \n",
    "t, analytical_heaps = get_heaps_UMT(G, rho, nu, M0, tmax=tmax)\n",
    "\n",
    "#Extracting the S(t_max)\n",
    "D_tmax = {node:yana[-1] for node, yana in analytical_heaps.items()}\n",
    "\n",
    "#Calculating the rough beta fit with the log method\n",
    "betas = {n: np.log10(D)/np.log10(tmax) for n, D in D_tmax.items()}"
   ]
  },
  {
   "cell_type": "code",
   "execution_count": null,
   "metadata": {},
   "outputs": [],
   "source": [
    "#Extracting the alpha centrality of G for different values of alpha\n",
    "alphas = np.linspace(0,0.3,200)\n",
    "spcorr = []\n",
    "for alpha in alphas:\n",
    "    ac = get_alpha_centrality(G, alpha=alpha)    \n",
    "    spcorr.append(spearmanr(betas.values(), ac.values())[0])"
   ]
  },
  {
   "cell_type": "code",
   "execution_count": 5,
   "metadata": {},
   "outputs": [
    {
     "data": {
      "image/png": "[encoded data removed]",
      "text/plain": [
       "<Figure size 432x216 with 1 Axes>"
      ]
     },
     "metadata": {
      "needs_background": "light"
     },
     "output_type": "display_data"
    }
   ],
   "source": [
    "fig = plt.figure(figsize=(6,3));\n",
    "\n",
    "plt.rcParams['xtick.major.width'] = 1.2\n",
    "plt.rcParams['ytick.major.width'] = 1.2\n",
    "plt.rcParams['xtick.minor.size'] = 2\n",
    "plt.rcParams['xtick.minor.width'] = 1.2\n",
    "plt.rcParams['ytick.minor.size'] = 2\n",
    "plt.rcParams['ytick.minor.width'] = 1.2\n",
    "plt.rcParams['axes.linewidth'] = 1.2\n",
    "mycolor = [0.21568627, 0.52941176, 0.75424837, 1.        ]\n",
    "\n",
    "ax = plt.subplot(111)\n",
    "\n",
    "ax.axvline(x = 1./max(abs(numpy.linalg.eig(nx.to_numpy_matrix(G))[0])), \n",
    "           ymin = -1.05, ymax = 1.05,\n",
    "           linestyle='--', color=plt.cm.Reds(0.4), lw=3, label=ur'$1/\\widehat{\\mu}$')\n",
    "\n",
    "ax.plot(alphas, spcorr, '-', color=mycolor)\n",
    "\n",
    "ax.tick_params(axis='both', which='major', labelsize=18)\n",
    "ax.set_xlabel(r\"$\\alpha$\", size=18)\n",
    "ax.set_ylabel(r\"$r_{S}(\\beta_i,c^{[\\alpha]}_i)$\", size=18)\n",
    "ax.set_ylim(-1.05,1.05)\n",
    "plt.yticks(np.arange(-1.,1.5, 0.5))\n",
    "ax.set_xlim(min(alphas), max(alphas))\n",
    "ax.legend(fontsize=16, frameon=False);\n",
    "ax.annotate('(a)', xy=(0.03, 0.08), xycoords=\"axes fraction\", fontsize=18);\n",
    "\n",
    "plt.tight_layout()"
   ]
  },
  {
   "cell_type": "code",
   "execution_count": 16,
   "metadata": {},
   "outputs": [
    {
     "name": "stdout",
     "output_type": "stream",
     "text": [
      "0.12638093985518764\n"
     ]
    }
   ],
   "source": [
    "chosen_alpha = .85/max(abs(numpy.linalg.eig(nx.to_numpy_matrix(G))[0]))\n",
    "print(chosen_alpha)"
   ]
  },
  {
   "cell_type": "code",
   "execution_count": 21,
   "metadata": {},
   "outputs": [
    {
     "data": {
      "text/html": [
       "<div>\n",
       "<style scoped>\n",
       "    .dataframe tbody tr th:only-of-type {\n",
       "        vertical-align: middle;\n",
       "    }\n",
       "\n",
       "    .dataframe tbody tr th {\n",
       "        vertical-align: top;\n",
       "    }\n",
       "\n",
       "    .dataframe thead th {\n",
       "        text-align: right;\n",
       "    }\n",
       "</style>\n",
       "<table border=\"1\" class=\"dataframe\">\n",
       "  <thead>\n",
       "    <tr style=\"text-align: right;\">\n",
       "      <th></th>\n",
       "      <th>node_id</th>\n",
       "      <th>D_tmax</th>\n",
       "      <th>alpha_c</th>\n",
       "      <th>normed_alpha_c</th>\n",
       "      <th>beta_exp_rough</th>\n",
       "    </tr>\n",
       "  </thead>\n",
       "  <tbody>\n",
       "    <tr>\n",
       "      <th>0</th>\n",
       "      <td>0</td>\n",
       "      <td>4226.764860</td>\n",
       "      <td>11.463464</td>\n",
       "      <td>0.962196</td>\n",
       "      <td>0.906502</td>\n",
       "    </tr>\n",
       "    <tr>\n",
       "      <th>1</th>\n",
       "      <td>1</td>\n",
       "      <td>3383.630858</td>\n",
       "      <td>8.385914</td>\n",
       "      <td>0.703880</td>\n",
       "      <td>0.882346</td>\n",
       "    </tr>\n",
       "    <tr>\n",
       "      <th>2</th>\n",
       "      <td>2</td>\n",
       "      <td>3756.965776</td>\n",
       "      <td>9.766867</td>\n",
       "      <td>0.819791</td>\n",
       "      <td>0.893709</td>\n",
       "    </tr>\n",
       "    <tr>\n",
       "      <th>3</th>\n",
       "      <td>3</td>\n",
       "      <td>2834.807310</td>\n",
       "      <td>6.765716</td>\n",
       "      <td>0.567887</td>\n",
       "      <td>0.863131</td>\n",
       "    </tr>\n",
       "    <tr>\n",
       "      <th>4</th>\n",
       "      <td>4</td>\n",
       "      <td>1424.068479</td>\n",
       "      <td>3.317682</td>\n",
       "      <td>0.278473</td>\n",
       "      <td>0.788383</td>\n",
       "    </tr>\n",
       "  </tbody>\n",
       "</table>\n",
       "</div>"
      ],
      "text/plain": [
       "   node_id       D_tmax    alpha_c  normed_alpha_c  beta_exp_rough\n",
       "0        0  4226.764860  11.463464        0.962196        0.906502\n",
       "1        1  3383.630858   8.385914        0.703880        0.882346\n",
       "2        2  3756.965776   9.766867        0.819791        0.893709\n",
       "3        3  2834.807310   6.765716        0.567887        0.863131\n",
       "4        4  1424.068479   3.317682        0.278473        0.788383"
      ]
     },
     "execution_count": 21,
     "metadata": {},
     "output_type": "execute_result"
    }
   ],
   "source": [
    "df = pd.DataFrame() \n",
    "df['node_id'] = list(D_tmax.keys())\n",
    "df['D_tmax'] = list(D_tmax.values())\n",
    "df['alpha_c'] = list(get_alpha_centrality(G, alpha=chosen_alpha).values())\n",
    "#Adding normalized centrality\n",
    "df['normed_alpha_c'] = df['alpha_c']/df['alpha_c'].max()\n",
    "#Adding fitted beta exponent (with the rough log method)\n",
    "df['beta_exp_rough'] = list(betas.values())\n",
    "\n",
    "#Saving\n",
    "df.to_csv('../results/Real_nets/Karate_club.csv', index=False, header=True, sep=',')\n",
    "\n",
    "df.head()"
   ]
  },
  {
   "cell_type": "markdown",
   "metadata": {},
   "source": [
    "## (b) Twitter"
   ]
  },
  {
   "cell_type": "code",
   "execution_count": 218,
   "metadata": {},
   "outputs": [
    {
     "name": "stdout",
     "output_type": "stream",
     "text": [
      "465017 833540\n",
      "False False\n"
     ]
    }
   ],
   "source": [
    "G = nx.read_edgelist(\"../data/twitter_social.tsv\", comments='%')\n",
    "print(G.order(), G.size())\n",
    "print(nx.is_weighted(G), nx.is_directed(G))"
   ]
  },
  {
   "cell_type": "markdown",
   "metadata": {},
   "source": [
    "Sampling it to reduce the number of nodes"
   ]
  },
  {
   "cell_type": "code",
   "execution_count": 219,
   "metadata": {},
   "outputs": [
    {
     "name": "stdout",
     "output_type": "stream",
     "text": [
      "4968\n"
     ]
    }
   ],
   "source": [
    "import itertools\n",
    "def random_walk_generator(G):\n",
    "    v = np.random.choice(list(G.nodes()))\n",
    "    for _ in itertools.count():\n",
    "        v = np.random.choice(list(G.neighbors(v)))\n",
    "        yield v\n",
    "\n",
    "n_nodes_to_sample = 8000 #this is the number of steps, there will be less nodes of course\n",
    "generator = random_walk_generator(G)\n",
    "random_walk_sample = [ next(generator) for step in range(0, n_nodes_to_sample)]\n",
    "#from the path to the new set of nodes\n",
    "sampled_nodes = list(set(random_walk_sample))\n",
    "print(len(sampled_nodes))"
   ]
  },
  {
   "cell_type": "code",
   "execution_count": 220,
   "metadata": {},
   "outputs": [
    {
     "name": "stdout",
     "output_type": "stream",
     "text": [
      "4968 26294\n",
      "True\n",
      "False False\n"
     ]
    }
   ],
   "source": [
    "G = nx.subgraph(G, sampled_nodes)\n",
    "print(G.order(), G.size())\n",
    "print(nx.is_connected(G))\n",
    "print(nx.is_weighted(G), nx.is_directed(G))"
   ]
  },
  {
   "cell_type": "markdown",
   "metadata": {},
   "source": [
    "Reading again as a directed graph and filtering"
   ]
  },
  {
   "cell_type": "code",
   "execution_count": 221,
   "metadata": {},
   "outputs": [
    {
     "name": "stdout",
     "output_type": "stream",
     "text": [
      "4968 26875\n",
      "False True\n"
     ]
    }
   ],
   "source": [
    "G = nx.read_edgelist(\"../data/twitter_social.tsv\", comments='%', create_using=nx.DiGraph())\n",
    "G = nx.subgraph(G, sampled_nodes)\n",
    "print(G.order(), G.size())\n",
    "print(nx.is_weighted(G), nx.is_directed(G))"
   ]
  },
  {
   "cell_type": "markdown",
   "metadata": {},
   "source": [
    "Saving the filtered network"
   ]
  },
  {
   "cell_type": "code",
   "execution_count": 222,
   "metadata": {
    "collapsed": true
   },
   "outputs": [],
   "source": [
    "nx.write_edgelist(G, \"../data/twitter_social_filtered.tsv\")"
   ]
  },
  {
   "cell_type": "markdown",
   "metadata": {},
   "source": [
    "### Reading filtered Twitter graph"
   ]
  },
  {
   "cell_type": "code",
   "execution_count": 22,
   "metadata": {},
   "outputs": [],
   "source": [
    "G = nx.read_edgelist(\"../data/twitter_social_filtered.tsv\", create_using=nx.DiGraph())"
   ]
  },
  {
   "cell_type": "code",
   "execution_count": 3,
   "metadata": {},
   "outputs": [
    {
     "name": "stdout",
     "output_type": "stream",
     "text": [
      "4968 26875 10.8192431562 5.232288805143486\n"
     ]
    }
   ],
   "source": [
    "print(G.order(), G.size(), 1.*sum(dict(G.degree()).values())/G.order(), max(abs(numpy.linalg.eig(nx.to_numpy_matrix(G))[0])))"
   ]
  },
  {
   "cell_type": "code",
   "execution_count": 3,
   "metadata": {},
   "outputs": [
    {
     "data": {
      "text/plain": [
       "4164"
      ]
     },
     "execution_count": 3,
     "metadata": {},
     "output_type": "execute_result"
    }
   ],
   "source": [
    "nx.number_strongly_connected_components(G)"
   ]
  },
  {
   "cell_type": "code",
   "execution_count": 4,
   "metadata": {},
   "outputs": [
    {
     "data": {
      "text/plain": [
       "770"
      ]
     },
     "execution_count": 4,
     "metadata": {},
     "output_type": "execute_result"
    }
   ],
   "source": [
    "Gcc = sorted(nx.strongly_connected_components(G), key=len, reverse=True)\n",
    "G0 = G.subgraph(Gcc[0])\n",
    "G0.order()"
   ]
  },
  {
   "cell_type": "code",
   "execution_count": 23,
   "metadata": {},
   "outputs": [],
   "source": [
    "#Model parameters\n",
    "rho = 10\n",
    "nu = 1\n",
    "M0 = nu+1\n",
    "tmax = 10000\n",
    "\n",
    "#Solving the model analytically \n",
    "t, analytical_heaps = get_heaps_UMT(G, rho, nu, M0, tmax=tmax)\n",
    "\n",
    "#Extracting the S(t_max)\n",
    "D_tmax = {node:yana[-1] for node, yana in analytical_heaps.items()}\n",
    "\n",
    "#Calculating the rough beta fit with the log method\n",
    "betas = {n: np.log10(D)/np.log10(tmax) for n, D in D_tmax.items()}"
   ]
  },
  {
   "cell_type": "code",
   "execution_count": null,
   "metadata": {},
   "outputs": [],
   "source": [
    "#Extracting the alpha centrality of G for different values of alpha\n",
    "alphas = np.linspace(0,0.4,200)\n",
    "spcorr = []\n",
    "for alpha in alphas:\n",
    "    ac = get_alpha_centrality(G, alpha=alpha)    \n",
    "    spcorr.append(spearmanr(betas.values(), ac.values())[0])"
   ]
  },
  {
   "cell_type": "code",
   "execution_count": null,
   "metadata": {},
   "outputs": [],
   "source": [
    "fig = plt.figure(figsize=(6,3));\n",
    "\n",
    "plt.rcParams['xtick.major.width'] = 1.2\n",
    "plt.rcParams['ytick.major.width'] = 1.2\n",
    "plt.rcParams['xtick.minor.size'] = 2\n",
    "plt.rcParams['xtick.minor.width'] = 1.2\n",
    "plt.rcParams['ytick.minor.size'] = 2\n",
    "plt.rcParams['ytick.minor.width'] = 1.2\n",
    "plt.rcParams['axes.linewidth'] = 1.2\n",
    "mycolor = [0.21568627, 0.52941176, 0.75424837, 1.        ]\n",
    "\n",
    "ax = plt.subplot(111)\n",
    "\n",
    "ax.axvline(x = 1./max(abs(numpy.linalg.eig(nx.to_numpy_matrix(G))[0])), \n",
    "           ymin = -1.05, ymax = 1.05,\n",
    "           linestyle='--', color=plt.cm.Reds(0.4), lw=3, label=ur'$1/\\widehat{\\mu}$')\n",
    "\n",
    "ax.plot(alphas, spcorr, '-', color=mycolor)\n",
    "\n",
    "ax.tick_params(axis='both', which='major', labelsize=18)\n",
    "ax.set_xlabel(r\"$\\alpha$\", size=18)\n",
    "ax.set_ylabel(r\"$r_{S}(\\beta_i,c^{[\\alpha]}_i)$\", size=18)\n",
    "ax.set_ylim(-1.05,1.05)\n",
    "plt.yticks(np.arange(-1.,1.5, 0.5))\n",
    "ax.set_xlim(min(alphas), max(alphas))\n",
    "ax.legend(fontsize=16, frameon=False);\n",
    "ax.annotate('(b)', xy=(0.03, 0.08), xycoords=\"axes fraction\", fontsize=18);\n",
    "\n",
    "plt.tight_layout()"
   ]
  },
  {
   "cell_type": "code",
   "execution_count": 25,
   "metadata": {},
   "outputs": [
    {
     "name": "stdout",
     "output_type": "stream",
     "text": [
      "0.16245280634440834\n"
     ]
    }
   ],
   "source": [
    "chosen_alpha = .85/max(abs(numpy.linalg.eig(nx.to_numpy_matrix(G))[0]))\n",
    "print(chosen_alpha)"
   ]
  },
  {
   "cell_type": "code",
   "execution_count": 26,
   "metadata": {},
   "outputs": [
    {
     "data": {
      "text/html": [
       "<div>\n",
       "<style scoped>\n",
       "    .dataframe tbody tr th:only-of-type {\n",
       "        vertical-align: middle;\n",
       "    }\n",
       "\n",
       "    .dataframe tbody tr th {\n",
       "        vertical-align: top;\n",
       "    }\n",
       "\n",
       "    .dataframe thead th {\n",
       "        text-align: right;\n",
       "    }\n",
       "</style>\n",
       "<table border=\"1\" class=\"dataframe\">\n",
       "  <thead>\n",
       "    <tr style=\"text-align: right;\">\n",
       "      <th></th>\n",
       "      <th>node_id</th>\n",
       "      <th>D_tmax</th>\n",
       "      <th>alpha_c</th>\n",
       "      <th>normed_alpha_c</th>\n",
       "      <th>beta_exp_rough</th>\n",
       "    </tr>\n",
       "  </thead>\n",
       "  <tbody>\n",
       "    <tr>\n",
       "      <th>0</th>\n",
       "      <td>0</td>\n",
       "      <td>589.777025</td>\n",
       "      <td>5.128416</td>\n",
       "      <td>0.042854</td>\n",
       "      <td>0.692672</td>\n",
       "    </tr>\n",
       "    <tr>\n",
       "      <th>1</th>\n",
       "      <td>1</td>\n",
       "      <td>1112.958907</td>\n",
       "      <td>11.338008</td>\n",
       "      <td>0.094743</td>\n",
       "      <td>0.761620</td>\n",
       "    </tr>\n",
       "    <tr>\n",
       "      <th>2</th>\n",
       "      <td>2</td>\n",
       "      <td>806.155929</td>\n",
       "      <td>7.587651</td>\n",
       "      <td>0.063404</td>\n",
       "      <td>0.726605</td>\n",
       "    </tr>\n",
       "    <tr>\n",
       "      <th>3</th>\n",
       "      <td>3</td>\n",
       "      <td>3.783789</td>\n",
       "      <td>1.000000</td>\n",
       "      <td>0.008356</td>\n",
       "      <td>0.144482</td>\n",
       "    </tr>\n",
       "    <tr>\n",
       "      <th>4</th>\n",
       "      <td>4</td>\n",
       "      <td>24.730465</td>\n",
       "      <td>1.487358</td>\n",
       "      <td>0.012429</td>\n",
       "      <td>0.348308</td>\n",
       "    </tr>\n",
       "  </tbody>\n",
       "</table>\n",
       "</div>"
      ],
      "text/plain": [
       "   node_id       D_tmax    alpha_c  normed_alpha_c  beta_exp_rough\n",
       "0        0   589.777025   5.128416        0.042854        0.692672\n",
       "1        1  1112.958907  11.338008        0.094743        0.761620\n",
       "2        2   806.155929   7.587651        0.063404        0.726605\n",
       "3        3     3.783789   1.000000        0.008356        0.144482\n",
       "4        4    24.730465   1.487358        0.012429        0.348308"
      ]
     },
     "execution_count": 26,
     "metadata": {},
     "output_type": "execute_result"
    }
   ],
   "source": [
    "df = pd.DataFrame() \n",
    "df['node_id'] = list(D_tmax.keys())\n",
    "df['D_tmax'] = list(D_tmax.values())\n",
    "df['alpha_c'] = list(get_alpha_centrality(G, alpha=chosen_alpha).values())\n",
    "#Adding normalized centrality\n",
    "df['normed_alpha_c'] = df['alpha_c']/df['alpha_c'].max()\n",
    "#Adding fitted beta exponent (with the rough log method)\n",
    "df['beta_exp_rough'] = np.log10(df['D_tmax'])/np.log10(tmax)\n",
    "\n",
    "#Saving\n",
    "df.to_csv('../results/Real_nets/Twitter.csv', index=False, header=True, sep=',')\n",
    "\n",
    "df.head()"
   ]
  },
  {
   "cell_type": "markdown",
   "metadata": {},
   "source": [
    "## (c) NetSci collaboration net"
   ]
  },
  {
   "cell_type": "code",
   "execution_count": 27,
   "metadata": {},
   "outputs": [
    {
     "name": "stdout",
     "output_type": "stream",
     "text": [
      "1589 2742\n",
      "False\n",
      "False False\n",
      "396\n"
     ]
    }
   ],
   "source": [
    "G = nx.read_gml(\"../data/netscience2006/netscience.gml\")\n",
    "print(G.order(), G.size())\n",
    "print(nx.is_connected(G))\n",
    "print(nx.is_weighted(G), nx.is_directed(G))\n",
    "print(nx.number_connected_components(G))"
   ]
  },
  {
   "cell_type": "code",
   "execution_count": 8,
   "metadata": {},
   "outputs": [
    {
     "data": {
      "text/plain": [
       "379"
      ]
     },
     "execution_count": 8,
     "metadata": {},
     "output_type": "execute_result"
    }
   ],
   "source": [
    "Gcc = sorted(nx.connected_components(G), key=len, reverse=True)\n",
    "G0 = G.subgraph(Gcc[0])\n",
    "G0.order()"
   ]
  },
  {
   "cell_type": "code",
   "execution_count": 7,
   "metadata": {},
   "outputs": [
    {
     "name": "stdout",
     "output_type": "stream",
     "text": [
      "1589 2742 3.45122718691 19.023813977135763\n"
     ]
    }
   ],
   "source": [
    "print(G.order(), G.size(), 1.*sum(dict(G.degree()).values())/G.order(), max(abs(numpy.linalg.eig(nx.to_numpy_matrix(G))[0])))"
   ]
  },
  {
   "cell_type": "code",
   "execution_count": 28,
   "metadata": {},
   "outputs": [],
   "source": [
    "#Model parameters\n",
    "rho = 10\n",
    "nu = 1\n",
    "M0 = nu+1\n",
    "tmax = 10000\n",
    "\n",
    "#Solving the model analytically \n",
    "t, analytical_heaps = get_heaps_UMT(G, rho, nu, M0, tmax=tmax)\n",
    "\n",
    "#Extracting the S(t_max)\n",
    "D_tmax = {node:yana[-1] for node, yana in analytical_heaps.items()}\n",
    "\n",
    "#Calculating the rough beta fit with the log method\n",
    "betas = {n: np.log10(D)/np.log10(tmax) for n, D in D_tmax.items()}"
   ]
  },
  {
   "cell_type": "code",
   "execution_count": 11,
   "metadata": {
    "collapsed": true
   },
   "outputs": [],
   "source": [
    "#Extracting the alpha centrality of G for different values of alpha\n",
    "alphas = np.linspace(0,0.15,200)\n",
    "spcorr = []\n",
    "for alpha in alphas:\n",
    "    ac = get_alpha_centrality(G, alpha=alpha)    \n",
    "    spcorr.append(spearmanr(betas.values(), ac.values())[0])"
   ]
  },
  {
   "cell_type": "code",
   "execution_count": 15,
   "metadata": {},
   "outputs": [
    {
     "data": {
      "image/png": "[encoded data removed]",
      "text/plain": [
       "<Figure size 432x216 with 1 Axes>"
      ]
     },
     "metadata": {},
     "output_type": "display_data"
    }
   ],
   "source": [
    "fig = plt.figure(figsize=(6,3));\n",
    "\n",
    "plt.rcParams['xtick.major.width'] = 1.2\n",
    "plt.rcParams['ytick.major.width'] = 1.2\n",
    "plt.rcParams['xtick.minor.size'] = 2\n",
    "plt.rcParams['xtick.minor.width'] = 1.2\n",
    "plt.rcParams['ytick.minor.size'] = 2\n",
    "plt.rcParams['ytick.minor.width'] = 1.2\n",
    "plt.rcParams['axes.linewidth'] = 1.2\n",
    "mycolor = [0.21568627, 0.52941176, 0.75424837, 1.        ]\n",
    "\n",
    "ax = plt.subplot(111)\n",
    "\n",
    "ax.axvline(x = 1./max(abs(numpy.linalg.eig(nx.to_numpy_matrix(G))[0])), \n",
    "           ymin = -1.05, ymax = 1.05,\n",
    "           linestyle='--', color=plt.cm.Reds(0.4), lw=3, label=ur'$1/\\Lambda_{max}$')\n",
    "\n",
    "ax.plot(alphas, spcorr, '-', color=mycolor)\n",
    "\n",
    "ax.tick_params(axis='both', which='major', labelsize=18)\n",
    "ax.set_xlabel(r\"$\\alpha$\", size=18)\n",
    "ax.set_ylabel(r\"$r_{S}(\\beta_i,c^{[\\alpha]}_i)$\", size=18)\n",
    "ax.set_ylim(-1.05,1.05)\n",
    "plt.yticks(np.arange(-1.,1.5, 0.5))\n",
    "ax.set_xlim(min(alphas), max(alphas))\n",
    "ax.legend(fontsize=16, frameon=False);\n",
    "ax.annotate('(c)', xy=(0.03, 0.08), xycoords=\"axes fraction\", fontsize=18);\n",
    "\n",
    "plt.tight_layout()"
   ]
  },
  {
   "cell_type": "code",
   "execution_count": 29,
   "metadata": {},
   "outputs": [
    {
     "name": "stdout",
     "output_type": "stream",
     "text": [
      "0.04468084060439149\n"
     ]
    }
   ],
   "source": [
    "chosen_alpha = .85/max(abs(numpy.linalg.eig(nx.to_numpy_matrix(G))[0]))\n",
    "print(chosen_alpha)"
   ]
  },
  {
   "cell_type": "code",
   "execution_count": 30,
   "metadata": {},
   "outputs": [
    {
     "data": {
      "text/html": [
       "<div>\n",
       "<style scoped>\n",
       "    .dataframe tbody tr th:only-of-type {\n",
       "        vertical-align: middle;\n",
       "    }\n",
       "\n",
       "    .dataframe tbody tr th {\n",
       "        vertical-align: top;\n",
       "    }\n",
       "\n",
       "    .dataframe thead th {\n",
       "        text-align: right;\n",
       "    }\n",
       "</style>\n",
       "<table border=\"1\" class=\"dataframe\">\n",
       "  <thead>\n",
       "    <tr style=\"text-align: right;\">\n",
       "      <th></th>\n",
       "      <th>node_id</th>\n",
       "      <th>D_tmax</th>\n",
       "      <th>alpha_c</th>\n",
       "      <th>normed_alpha_c</th>\n",
       "      <th>beta_exp_rough</th>\n",
       "    </tr>\n",
       "  </thead>\n",
       "  <tbody>\n",
       "    <tr>\n",
       "      <th>0</th>\n",
       "      <td>0</td>\n",
       "      <td>129.892034</td>\n",
       "      <td>1.100337</td>\n",
       "      <td>0.162442</td>\n",
       "      <td>0.528396</td>\n",
       "    </tr>\n",
       "    <tr>\n",
       "      <th>1</th>\n",
       "      <td>1</td>\n",
       "      <td>153.498572</td>\n",
       "      <td>1.145295</td>\n",
       "      <td>0.169079</td>\n",
       "      <td>0.546526</td>\n",
       "    </tr>\n",
       "    <tr>\n",
       "      <th>2</th>\n",
       "      <td>2</td>\n",
       "      <td>917.641317</td>\n",
       "      <td>1.217617</td>\n",
       "      <td>0.179756</td>\n",
       "      <td>0.740668</td>\n",
       "    </tr>\n",
       "    <tr>\n",
       "      <th>3</th>\n",
       "      <td>3</td>\n",
       "      <td>917.641317</td>\n",
       "      <td>1.217617</td>\n",
       "      <td>0.179756</td>\n",
       "      <td>0.740668</td>\n",
       "    </tr>\n",
       "    <tr>\n",
       "      <th>4</th>\n",
       "      <td>4</td>\n",
       "      <td>917.641317</td>\n",
       "      <td>1.217617</td>\n",
       "      <td>0.179756</td>\n",
       "      <td>0.740668</td>\n",
       "    </tr>\n",
       "  </tbody>\n",
       "</table>\n",
       "</div>"
      ],
      "text/plain": [
       "   node_id      D_tmax   alpha_c  normed_alpha_c  beta_exp_rough\n",
       "0        0  129.892034  1.100337        0.162442        0.528396\n",
       "1        1  153.498572  1.145295        0.169079        0.546526\n",
       "2        2  917.641317  1.217617        0.179756        0.740668\n",
       "3        3  917.641317  1.217617        0.179756        0.740668\n",
       "4        4  917.641317  1.217617        0.179756        0.740668"
      ]
     },
     "execution_count": 30,
     "metadata": {},
     "output_type": "execute_result"
    }
   ],
   "source": [
    "df = pd.DataFrame() \n",
    "df['node_id'] = list(D_tmax.keys())\n",
    "df['D_tmax'] = list(D_tmax.values())\n",
    "df['alpha_c'] = list(get_alpha_centrality(G, alpha=chosen_alpha).values())\n",
    "#Adding normalized centrality\n",
    "df['normed_alpha_c'] = df['alpha_c']/df['alpha_c'].max()\n",
    "#Adding fitted beta exponent (with the rough log method)\n",
    "df['beta_exp_rough'] = np.log10(df['D_tmax'])/np.log10(tmax)\n",
    "\n",
    "#Saving\n",
    "df.to_csv('../results/Real_nets/NetSci2006_collaboration.csv', index=False, header=True, sep=',')\n",
    "\n",
    "df.head()"
   ]
  },
  {
   "cell_type": "code",
   "execution_count": 6,
   "metadata": {
    "collapsed": true
   },
   "outputs": [],
   "source": [
    "NetSci = pd.read_csv('../results/Real_nets/NetSci2006_collaboration.csv')"
   ]
  },
  {
   "cell_type": "code",
   "execution_count": 32,
   "metadata": {
    "collapsed": true
   },
   "outputs": [],
   "source": [
    "pos = nx.spring_layout(G, k=2/sqrt(G.order()))"
   ]
  },
  {
   "cell_type": "code",
   "execution_count": 42,
   "metadata": {},
   "outputs": [
    {
     "data": {
      "image/png": "[encoded data removed]",
      "text/plain": [
       "<matplotlib.figure.Figure at 0x7f014fde5950>"
      ]
     },
     "metadata": {},
     "output_type": "display_data"
    }
   ],
   "source": [
    "fig = plt.figure(figsize=(8,8));\n",
    "\n",
    "plt.rcParams['xtick.major.width'] = 1.2\n",
    "plt.rcParams['ytick.major.width'] = 1.2\n",
    "plt.rcParams['xtick.minor.size'] = 2\n",
    "plt.rcParams['xtick.minor.width'] = 1.2\n",
    "plt.rcParams['ytick.minor.size'] = 2\n",
    "plt.rcParams['ytick.minor.width'] = 1.2\n",
    "plt.rcParams['axes.linewidth'] = 1.2\n",
    "ax = plt.subplot(111, aspect='equal')\n",
    "\n",
    "colors = np.array(NetSci['beta_exp_rough'])\n",
    "cmap = plt.cm.YlGnBu\n",
    "vmin, vmax = min(colors), max(colors)\n",
    "\n",
    "nx.draw_networkx_edges(G, pos=pos, width=0.8, arrowstyle='-|>', arrowsize=20);\n",
    "nx.draw_networkx_nodes(G, pos=pos, node_color=colors, cmap=cmap, vmin=vmin, vmax=vmax,\n",
    "                       node_size=50, edgecolors='Black', linewidths=1);\n",
    "\n",
    "sm = plt.cm.ScalarMappable(cmap=cmap, norm=plt.Normalize(vmin=vmin, vmax=vmax))\n",
    "sm.set_array([])\n",
    "cbar = plt.colorbar(sm, orientation='horizontal', ticks=[0.5,0.6,0.7,0.8,0.9], shrink=0.3)\n",
    "                    #, fraction=0.015, pad=0.02, ticks=[0.7,0.8,0.9])\n",
    "ticklabs = cbar.ax.get_xticklabels()\n",
    "cbar.ax.set_xticklabels(ticklabs, fontsize=16)\n",
    "#cbar = fig.colorbar(im, cax=cbar_axim, ticks=[1e-6, 1e-5, 1e-4])\n",
    "cbar.set_label(ur'$\\beta_i$', fontsize=18)\n",
    "\n",
    "ax.axis('off');"
   ]
  },
  {
   "cell_type": "markdown",
   "metadata": {},
   "source": [
    "## (d) Jazz"
   ]
  },
  {
   "cell_type": "code",
   "execution_count": 31,
   "metadata": {},
   "outputs": [
    {
     "name": "stdout",
     "output_type": "stream",
     "text": [
      "198 2742\n",
      "True\n",
      "False False\n"
     ]
    }
   ],
   "source": [
    "G = nx.read_edgelist(\"../data/arenas-jazz.tsv\", comments='%')\n",
    "print(G.order(), G.size())\n",
    "print(nx.is_connected(G))\n",
    "print(nx.is_weighted(G), nx.is_directed(G))"
   ]
  },
  {
   "cell_type": "code",
   "execution_count": 20,
   "metadata": {},
   "outputs": [
    {
     "name": "stdout",
     "output_type": "stream",
     "text": [
      "198 2742 27.696969697 40.02737591275789\n"
     ]
    }
   ],
   "source": [
    "print(G.order(), G.size(), 1.*sum(dict(G.degree()).values())/G.order(), max(abs(numpy.linalg.eig(nx.to_numpy_matrix(G))[0])))"
   ]
  },
  {
   "cell_type": "code",
   "execution_count": 62,
   "metadata": {},
   "outputs": [],
   "source": [
    "#Model parameters\n",
    "rho = 10\n",
    "nu = 1\n",
    "M0 = nu+1\n",
    "tmax = 10000\n",
    "\n",
    "#Solving the model analytically \n",
    "t, analytical_heaps = get_heaps_UMT(G, rho, nu, M0, tmax=tmax)\n",
    "\n",
    "#Extracting the S(t_max)\n",
    "D_tmax = {node:yana[-1] for node, yana in analytical_heaps.items()}\n",
    "\n",
    "#Calculating the rough beta fit with the log method\n",
    "betas = {n: np.log10(D)/np.log10(tmax) for n, D in D_tmax.items()}"
   ]
  },
  {
   "cell_type": "code",
   "execution_count": null,
   "metadata": {},
   "outputs": [],
   "source": [
    "#Extracting the alpha centrality of G for different values of alpha\n",
    "alphas = np.linspace(0,0.05,200)\n",
    "spcorr = []\n",
    "for alpha in alphas:\n",
    "    ac = get_alpha_centrality(G, alpha=alpha)    \n",
    "    spcorr.append(spearmanr(betas.values(), ac.values())[0])"
   ]
  },
  {
   "cell_type": "code",
   "execution_count": 7,
   "metadata": {},
   "outputs": [
    {
     "data": {
      "image/png": "[encoded data removed]",
      "text/plain": [
       "<matplotlib.figure.Figure at 0x7f4a88844c90>"
      ]
     },
     "metadata": {},
     "output_type": "display_data"
    }
   ],
   "source": [
    "fig = plt.figure(figsize=(6,3));\n",
    "\n",
    "plt.rcParams['xtick.major.width'] = 1.2\n",
    "plt.rcParams['ytick.major.width'] = 1.2\n",
    "plt.rcParams['xtick.minor.size'] = 2\n",
    "plt.rcParams['xtick.minor.width'] = 1.2\n",
    "plt.rcParams['ytick.minor.size'] = 2\n",
    "plt.rcParams['ytick.minor.width'] = 1.2\n",
    "plt.rcParams['axes.linewidth'] = 1.2\n",
    "mycolor = [0.21568627, 0.52941176, 0.75424837, 1.        ]\n",
    "\n",
    "ax = plt.subplot(111)\n",
    "\n",
    "ax.axvline(x = 1./max(abs(numpy.linalg.eig(nx.to_numpy_matrix(G))[0])), \n",
    "           ymin = -1.05, ymax = 1.05,\n",
    "           linestyle='--', color=plt.cm.Reds(0.4), lw=3, label=ur'$1/\\Lambda_{max}$')\n",
    "\n",
    "ax.plot(alphas, spcorr, '-', color=mycolor)\n",
    "\n",
    "ax.tick_params(axis='both', which='major', labelsize=18)\n",
    "ax.set_xlabel(r\"$\\alpha$\", size=18)\n",
    "ax.set_ylabel(r\"$r_{S}(\\beta_i,c^{[\\alpha]}_i)$\", size=18)\n",
    "ax.set_ylim(-1.05,1.05)\n",
    "plt.yticks(np.arange(-1.,1.5, 0.5))\n",
    "ax.set_xlim(min(alphas), max(alphas))\n",
    "ax.legend(fontsize=16, frameon=False);\n",
    "ax.annotate('(d)', xy=(0.03, 0.08), xycoords=\"axes fraction\", fontsize=18);\n",
    "\n",
    "plt.tight_layout()"
   ]
  },
  {
   "cell_type": "code",
   "execution_count": null,
   "metadata": {},
   "outputs": [],
   "source": [
    "chosen_alpha = .6/max(abs(numpy.linalg.eig(nx.to_numpy_matrix(G))[0]))"
   ]
  },
  {
   "cell_type": "code",
   "execution_count": 64,
   "metadata": {},
   "outputs": [
    {
     "data": {
      "text/html": [
       "<div>\n",
       "<style scoped>\n",
       "    .dataframe tbody tr th:only-of-type {\n",
       "        vertical-align: middle;\n",
       "    }\n",
       "\n",
       "    .dataframe tbody tr th {\n",
       "        vertical-align: top;\n",
       "    }\n",
       "\n",
       "    .dataframe thead th {\n",
       "        text-align: right;\n",
       "    }\n",
       "</style>\n",
       "<table border=\"1\" class=\"dataframe\">\n",
       "  <thead>\n",
       "    <tr style=\"text-align: right;\">\n",
       "      <th></th>\n",
       "      <th>node_id</th>\n",
       "      <th>D_tmax</th>\n",
       "      <th>alpha_c</th>\n",
       "      <th>normed_alpha_c</th>\n",
       "      <th>beta_exp_rough</th>\n",
       "    </tr>\n",
       "  </thead>\n",
       "  <tbody>\n",
       "    <tr>\n",
       "      <th>0</th>\n",
       "      <td>0</td>\n",
       "      <td>7845.851932</td>\n",
       "      <td>1.894941</td>\n",
       "      <td>0.423658</td>\n",
       "      <td>0.973660</td>\n",
       "    </tr>\n",
       "    <tr>\n",
       "      <th>1</th>\n",
       "      <td>1</td>\n",
       "      <td>8672.016710</td>\n",
       "      <td>2.616837</td>\n",
       "      <td>0.585054</td>\n",
       "      <td>0.984530</td>\n",
       "    </tr>\n",
       "    <tr>\n",
       "      <th>2</th>\n",
       "      <td>2</td>\n",
       "      <td>8646.432132</td>\n",
       "      <td>2.612366</td>\n",
       "      <td>0.584055</td>\n",
       "      <td>0.984209</td>\n",
       "    </tr>\n",
       "    <tr>\n",
       "      <th>3</th>\n",
       "      <td>3</td>\n",
       "      <td>8808.322175</td>\n",
       "      <td>2.876962</td>\n",
       "      <td>0.643211</td>\n",
       "      <td>0.986223</td>\n",
       "    </tr>\n",
       "    <tr>\n",
       "      <th>4</th>\n",
       "      <td>4</td>\n",
       "      <td>9036.301921</td>\n",
       "      <td>3.304332</td>\n",
       "      <td>0.738759</td>\n",
       "      <td>0.988998</td>\n",
       "    </tr>\n",
       "  </tbody>\n",
       "</table>\n",
       "</div>"
      ],
      "text/plain": [
       "   node_id       D_tmax   alpha_c  normed_alpha_c  beta_exp_rough\n",
       "0        0  7845.851932  1.894941        0.423658        0.973660\n",
       "1        1  8672.016710  2.616837        0.585054        0.984530\n",
       "2        2  8646.432132  2.612366        0.584055        0.984209\n",
       "3        3  8808.322175  2.876962        0.643211        0.986223\n",
       "4        4  9036.301921  3.304332        0.738759        0.988998"
      ]
     },
     "execution_count": 64,
     "metadata": {},
     "output_type": "execute_result"
    }
   ],
   "source": [
    "df = pd.DataFrame() \n",
    "df['node_id'] = list(D_tmax.keys())\n",
    "df['D_tmax'] = list(D_tmax.values())\n",
    "df['alpha_c'] = list(get_alpha_centrality(G, alpha=chosen_alpha).values())\n",
    "#Adding normalized centrality\n",
    "df['normed_alpha_c'] = df['alpha_c']/df['alpha_c'].max()\n",
    "#Adding fitted beta exponent (with the rough log method)\n",
    "df['beta_exp_rough'] = betas.values()\n",
    "\n",
    "#Saving\n",
    "df.to_csv('../results/Real_nets/Jazz.csv', index=False, header=True, sep=',')\n",
    "\n",
    "df.head()"
   ]
  },
  {
   "cell_type": "markdown",
   "metadata": {},
   "source": [
    "# Plotting Fig. 4 "
   ]
  },
  {
   "cell_type": "code",
   "execution_count": 65,
   "metadata": {},
   "outputs": [],
   "source": [
    "#Reading dataframes\n",
    "Karate = pd.read_csv('../results/Real_nets/Karate_club.csv')\n",
    "Twitter = pd.read_csv('../results/Real_nets/Twitter.csv')\n",
    "Jazz = pd.read_csv('../results/Real_nets/Jazz.csv')\n",
    "NetSci = pd.read_csv('../results/Real_nets/NetSci2006_collaboration.csv')"
   ]
  },
  {
   "cell_type": "code",
   "execution_count": 66,
   "metadata": {},
   "outputs": [
    {
     "data": {
      "image/png": "[encoded data removed]",
      "text/plain": [
       "<Figure size 648x216 with 4 Axes>"
      ]
     },
     "metadata": {
      "needs_background": "light"
     },
     "output_type": "display_data"
    }
   ],
   "source": [
    "fig = plt.figure(figsize=(9,3));\n",
    "\n",
    "plt.rcParams['xtick.major.width'] = 1.2\n",
    "plt.rcParams['ytick.major.width'] = 1.2\n",
    "plt.rcParams['xtick.minor.size'] = 2\n",
    "plt.rcParams['xtick.minor.width'] = 1.2\n",
    "plt.rcParams['ytick.minor.size'] = 2\n",
    "plt.rcParams['ytick.minor.width'] = 1.2\n",
    "plt.rcParams['axes.linewidth'] = 1.2\n",
    "mycolor = [0.21568627, 0.52941176, 0.75424837, 1.        ]\n",
    "\n",
    "backgroung_c = u'#1f77b4'#'white'\n",
    "markercolor = 'white'#u'#1f77b4'#u'#ff7f0e'\n",
    "mfc = 'None'\n",
    "alpha = 0.5\n",
    "ms = 6\n",
    "\n",
    "###############################################################################################\n",
    "ax = plt.subplot(141)###########################################################\n",
    "ax.set_facecolor(backgroung_c)\n",
    "x, y = Karate['normed_alpha_c'], Karate['beta_exp_rough']\n",
    "ax.plot(x, y, 'o', mfc=mfc, mec=markercolor, mew=1.2, ms=ms, alpha=alpha)\n",
    "\n",
    "ax.set_title(label=\"$r_{S}=%.2f$\"%spearmanr(x, y)[0], fontsize=18)\n",
    "ax.tick_params(axis='both', which='major', labelsize=18)\n",
    "ax.set_ylabel(r\"$\\beta_i$\", size=18)\n",
    "ax.set_xlabel(r'$c^{[\\alpha]}_i/c^{[\\alpha]}_{max}$', size=18)\n",
    "ax.set_xlim(-0.05,1.05)\n",
    "ax.set_ylim(0.6,1.01)\n",
    "ax.xaxis.set_ticks(np.arange(0, 1.1, 0.5))\n",
    "ax.annotate('(a)', xy=(0.7, 0.1), xycoords=\"axes fraction\", fontsize=18, color='white')\n",
    "#ax.legend(loc='lower right', markerscale=0, handlelength=0, handletextpad=0, fontsize=16)\n",
    "\n",
    "ax = plt.subplot(143)###########################################################\n",
    "ax.set_facecolor(backgroung_c)\n",
    "x, y = NetSci['normed_alpha_c'], NetSci['beta_exp_rough']\n",
    "ax.plot(x, y, 'o', mfc=mfc, mec=markercolor,mew=1.2, ms=ms, alpha=alpha)\n",
    "\n",
    "ax.set_title(label=\"$r_{S}=%.2f$\"%spearmanr(x, y)[0], fontsize=18)\n",
    "ax.tick_params(axis='both', which='major', labelsize=18)\n",
    "ax.set_xlabel(r'$c^{[\\alpha]}_i/c^{[\\alpha]}_{max}$', size=18)\n",
    "#ax.set_ylabel(ur\"$\\beta_i$\", size=18)\n",
    "ax.set_ylim(0.,1.01)\n",
    "ax.yaxis.set_ticks([0.0,0.5,1.0])\n",
    "ax.set_xscale('log')\n",
    "ax.set_xlim(5e-2,2e0)\n",
    "ax.minorticks_off()\n",
    "locmin = matplotlib.ticker.LogLocator(base=10.0,subs=(0.1,0.2,0.3,0.4,0.5,0.6,0.7,0.8,0.9),numticks=2)\n",
    "ax.xaxis.set_minor_locator(locmin)\n",
    "ax.xaxis.set_minor_formatter(matplotlib.ticker.NullFormatter())\n",
    "ax.annotate('(c)', xy=(0.7, 0.1), xycoords=\"axes fraction\", fontsize=18, color='white')\n",
    "#ax.legend(loc='lower right', markerscale=0, handlelength=0, handletextpad=0, fontsize=16)\n",
    "\n",
    "ax = plt.subplot(142)###########################################################\n",
    "ax.set_facecolor(backgroung_c)\n",
    "x, y = Twitter['normed_alpha_c'], Twitter['beta_exp_rough']\n",
    "ax.plot(x, y, 'o', mfc=mfc, mec=markercolor, mew=1.2, ms=ms, alpha=alpha)\n",
    "\n",
    "ax.set_title(label=\"$r_{S}=%.2f$\"%spearmanr(x, y)[0], fontsize=18)\n",
    "ax.tick_params(axis='both', which='major', labelsize=18)\n",
    "#ax.set_xlim(-0.05,1.05)\n",
    "ax.set_xlabel(r'$c^{[\\alpha]}_i/c^{[\\alpha]}_{max}$', size=18)\n",
    "ax.set_ylim(-0.05,1.01)\n",
    "ax.set_xscale('log')\n",
    "ax.set_xlim(1e-4,1e0)\n",
    "ax.xaxis.set_ticks([1e-4,1e-2,1e0])\n",
    "locmin = matplotlib.ticker.LogLocator(base=10.0,subs=(0.1,0.2,0.3,0.4,0.5,0.6,0.7,0.8,0.9),numticks=4)\n",
    "ax.xaxis.set_minor_locator(locmin)\n",
    "ax.xaxis.set_minor_formatter(matplotlib.ticker.NullFormatter())\n",
    "ax.annotate('(b)', xy=(0.7, 0.1), xycoords=\"axes fraction\", fontsize=18, color='white')\n",
    "#ax.legend(loc='lower right', markerscale=0, handlelength=0, handletextpad=0, fontsize=16)\n",
    "\n",
    "ax = plt.subplot(144)###########################################################\n",
    "ax.set_facecolor(backgroung_c)\n",
    "x, y = Jazz['normed_alpha_c'], Jazz['beta_exp_rough']\n",
    "ax.plot(x, y, 'o', mfc=mfc, mec=markercolor, mew=1.2, ms=ms, alpha=alpha)\n",
    "ax.set_title(label=\"$r_{S}=%.2f$\"%spearmanr(x, y)[0], fontsize=18)\n",
    "ax.tick_params(axis='both', which='major', labelsize=18)\n",
    "ax.set_xlabel(r'$c^{[\\alpha]}_i/c^{[\\alpha]}_{max}$', size=18)\n",
    "ax.set_xlim(-0.05,1.05)\n",
    "ax.set_ylim(0.6,1.01)\n",
    "ax.xaxis.set_ticks(np.arange(0, 1.1, 0.5))\n",
    "ax.annotate('(d)', xy=(0.7, 0.1), xycoords=\"axes fraction\", fontsize=18, color='white')\n",
    "#ax.legend(loc='lower right', markerscale=0, handlelength=0, handletextpad=0, fontsize=16)\n",
    "###############################################################################################\n",
    "\n",
    "plt.tight_layout()\n",
    "\n",
    "#filename = \"../figures/spearman_corr_real_nets.pdf\"\n",
    "#plt.savefig(filename, bbox_inches='tight', dpi=150)"
   ]
  },
  {
   "cell_type": "code",
   "execution_count": null,
   "metadata": {},
   "outputs": [],
   "source": []
  }
 ],
 "metadata": {
  "kernelspec": {
   "display_name": "Python 3",
   "language": "python",
   "name": "python3"
  },
  "language_info": {
   "codemirror_mode": {
    "name": "ipython",
    "version": 3
   },
   "file_extension": ".py",
   "mimetype": "text/x-python",
   "name": "python",
   "nbconvert_exporter": "python",
   "pygments_lexer": "ipython3",
   "version": "3.8.5"
  }
 },
 "nbformat": 4,
 "nbformat_minor": 2
}
