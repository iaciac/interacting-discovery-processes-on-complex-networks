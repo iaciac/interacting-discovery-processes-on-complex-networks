{
 "cells": [
  {
   "cell_type": "code",
   "execution_count": 4,
   "metadata": {},
   "outputs": [],
   "source": [
    "from scipy.integrate import odeint\n",
    "import numpy as np\n",
    "import networkx as nx\n",
    "import pandas as pd\n",
    "from numba import jit\n",
    "import pickle\n",
    "from collections import defaultdict\n",
    "\n",
    "def Deqs(x, t, A, rho, nu, M0):\n",
    "\n",
    "    N = A.shape[0]\n",
    "    numerator = (np.multiply(M0, 1 + np.sum(A, axis=1)) + np.multiply(nu, x) + np.multiply((nu+1),(A.dot(x))))\n",
    "    denominator = ( np.multiply(1.*rho,t) + (A + np.identity(N)).dot(M0 + np.multiply((nu+1), x)))\n",
    "    #dxdt = numerator/denominator\n",
    "    dxdt = numerator/denominator\n",
    "    \n",
    "    return dxdt\n",
    "\n",
    "def get_heaps_UMT(G, rho, nu, M0, tmax=10000):\n",
    "    \n",
    "    A = nx.to_numpy_array(G)\n",
    "    N = A.shape[0]\n",
    "\n",
    "    x0 = [0]*N\n",
    "    t = np.arange(tmax)\n",
    "\n",
    "    params = (A, rho, nu, M0)\n",
    "    res = odeint(Deqs, x0, t, args=params)\n",
    "\n",
    "    analytical_heaps={i: res[:,i] for i in range(N)} \n",
    "    \n",
    "    return t, analytical_heaps\n",
    "\n",
    "@jit\n",
    "def get_logD_fit(analytical_heaps, tmax):\n",
    "    betas={}\n",
    "    for node, yana in analytical_heaps.iteritems():\n",
    "        Dmax = yana[tmax-1]\n",
    "        beta = 1.*np.log10(Dmax)/np.log10(tmax)\n",
    "        betas[node]=beta\n",
    "    return betas\n",
    "\n",
    "@jit\n",
    "def get_moving_fit(analytical_heaps, tfit):\n",
    "    betas_dict = defaultdict(list)\n",
    "    for ti in range(len(tfit))[:-1]:\n",
    "        tmax = int(tfit[ti+1])\n",
    "        betas = get_logD_fit(analytical_heaps, tmax)\n",
    "        for node, beta_node in betas.iteritems():\n",
    "            betas_dict[node].append(beta_node)\n",
    "    return betas_dict"
   ]
  },
  {
   "cell_type": "markdown",
   "metadata": {},
   "source": [
    "# Toy synthetic networks (4 nodes) -- Fig. 3\n",
    "In this notebook I look at the Heaps behavior at transient times [via Eq.(4)] for different toy networks"
   ]
  },
  {
   "cell_type": "markdown",
   "metadata": {},
   "source": [
    "Net1: star"
   ]
  },
  {
   "cell_type": "code",
   "execution_count": 3,
   "metadata": {
    "collapsed": true
   },
   "outputs": [],
   "source": [
    "rho = 6\n",
    "nu = 3\n",
    "M0 = nu+1\n",
    "tmax = 100000000\n",
    "\n",
    "G = nx.DiGraph()\n",
    "G.add_edge(0,1)\n",
    "G.add_edge(0,2)\n",
    "G.add_edge(0,3)\n",
    "\n",
    "t, analytical_heaps = get_heaps_UMT(G, rho, nu, M0, tmax)"
   ]
  },
  {
   "cell_type": "code",
   "execution_count": 7,
   "metadata": {
    "collapsed": true
   },
   "outputs": [],
   "source": [
    "tfit = np.logspace(1, 8, 25)\n",
    "betas_dict = get_moving_fit(analytical_heaps, tfit)"
   ]
  },
  {
   "cell_type": "code",
   "execution_count": 8,
   "metadata": {
    "collapsed": true
   },
   "outputs": [],
   "source": [
    "#Saving\n",
    "df = pd.DataFrame()\n",
    "df['time'] = tfit[1:]\n",
    "df['beta_n1'] = betas_dict[0]\n",
    "df['beta_n2'] = betas_dict[1]\n",
    "df['beta_n3'] = betas_dict[2]\n",
    "df['beta_n4'] = betas_dict[3]\n",
    "\n",
    "filename = \"../results/Ready_to_plot/Heaps_panel_transient_net1.csv\"\n",
    "df.to_csv(filename, header=True, index=None, sep=',')"
   ]
  },
  {
   "cell_type": "markdown",
   "metadata": {},
   "source": [
    "Net 2: chain"
   ]
  },
  {
   "cell_type": "code",
   "execution_count": 9,
   "metadata": {
    "collapsed": true
   },
   "outputs": [],
   "source": [
    "rho = 6\n",
    "nu = 3\n",
    "M0 = nu+1\n",
    "tmax = 100000000\n",
    "\n",
    "G = nx.DiGraph()\n",
    "G.add_edge(0,1)\n",
    "G.add_edge(1,2)\n",
    "G.add_edge(2,3)\n",
    "\n",
    "t, analytical_heaps = get_heaps_UMT(G, rho, nu, M0, tmax)"
   ]
  },
  {
   "cell_type": "code",
   "execution_count": 10,
   "metadata": {
    "collapsed": true
   },
   "outputs": [],
   "source": [
    "tfit = np.logspace(1, 8, 25)\n",
    "betas_dict = get_moving_fit(analytical_heaps, tfit)"
   ]
  },
  {
   "cell_type": "code",
   "execution_count": 11,
   "metadata": {
    "collapsed": true
   },
   "outputs": [],
   "source": [
    "#Saving\n",
    "df = pd.DataFrame()\n",
    "df['time'] = tfit[1:]\n",
    "df['beta_n1'] = betas_dict[0]\n",
    "df['beta_n2'] = betas_dict[1]\n",
    "df['beta_n3'] = betas_dict[2]\n",
    "df['beta_n4'] = betas_dict[3]\n",
    "\n",
    "filename = \"../results/Ready_to_plot/Heaps_panel_transient_net2.csv\"\n",
    "df.to_csv(filename, header=True, index=None, sep=',')"
   ]
  },
  {
   "cell_type": "markdown",
   "metadata": {},
   "source": [
    "Net 3: 4 nodes with triangle"
   ]
  },
  {
   "cell_type": "code",
   "execution_count": 12,
   "metadata": {
    "collapsed": true
   },
   "outputs": [],
   "source": [
    "rho = 6\n",
    "nu = 3\n",
    "M0 = nu+1\n",
    "tmax = 100000000\n",
    "\n",
    "G = nx.DiGraph()\n",
    "G.add_edge(0,1)\n",
    "G.add_edge(1,2)\n",
    "G.add_edge(2,3)\n",
    "G.add_edge(3,1)\n",
    "\n",
    "t, analytical_heaps = get_heaps_UMT(G, rho, nu, M0, tmax)"
   ]
  },
  {
   "cell_type": "code",
   "execution_count": 13,
   "metadata": {
    "collapsed": true
   },
   "outputs": [],
   "source": [
    "tfit = np.logspace(1, 8, 25)\n",
    "betas_dict = get_moving_fit(analytical_heaps, tfit)"
   ]
  },
  {
   "cell_type": "code",
   "execution_count": 14,
   "metadata": {
    "collapsed": true
   },
   "outputs": [],
   "source": [
    "#Saving\n",
    "df = pd.DataFrame()\n",
    "df['time'] = tfit[1:]\n",
    "df['beta_n1'] = betas_dict[0]\n",
    "df['beta_n2'] = betas_dict[1]\n",
    "df['beta_n3'] = betas_dict[2]\n",
    "df['beta_n4'] = betas_dict[3]\n",
    "\n",
    "filename = \"../results/Ready_to_plot/Heaps_panel_transient_net3.csv\"\n",
    "df.to_csv(filename, header=True, index=None, sep=',')"
   ]
  },
  {
   "cell_type": "markdown",
   "metadata": {},
   "source": [
    "Net 4: 4 nodes not sym "
   ]
  },
  {
   "cell_type": "code",
   "execution_count": 15,
   "metadata": {
    "collapsed": true
   },
   "outputs": [],
   "source": [
    "rho = 6\n",
    "nu = 3\n",
    "M0 = nu+1\n",
    "tmax = 100000000\n",
    "\n",
    "G = nx.DiGraph()\n",
    "G.add_edge(0,1)\n",
    "G.add_edge(1,2)\n",
    "G.add_edge(2,3)\n",
    "G.add_edge(1,3)\n",
    "\n",
    "t, analytical_heaps = get_heaps_UMT(G, rho, nu, M0, tmax)"
   ]
  },
  {
   "cell_type": "code",
   "execution_count": 16,
   "metadata": {
    "collapsed": true
   },
   "outputs": [],
   "source": [
    "tfit = np.logspace(1, 8, 25)\n",
    "betas_dict = get_moving_fit(analytical_heaps, tfit)"
   ]
  },
  {
   "cell_type": "code",
   "execution_count": 17,
   "metadata": {
    "collapsed": true
   },
   "outputs": [],
   "source": [
    "#Saving\n",
    "df = pd.DataFrame()\n",
    "df['time'] = tfit[1:]\n",
    "df['beta_n1'] = betas_dict[0]\n",
    "df['beta_n2'] = betas_dict[1]\n",
    "df['beta_n3'] = betas_dict[2]\n",
    "df['beta_n4'] = betas_dict[3]\n",
    "\n",
    "filename = \"../results/Ready_to_plot/Heaps_panel_transient_net4.csv\"\n",
    "df.to_csv(filename, header=True, index=None, sep=',')"
   ]
  },
  {
   "cell_type": "markdown",
   "metadata": {},
   "source": [
    "Net 5: 4 nodes with triangle (out)"
   ]
  },
  {
   "cell_type": "code",
   "execution_count": 18,
   "metadata": {
    "collapsed": true
   },
   "outputs": [],
   "source": [
    "rho = 6\n",
    "nu = 3\n",
    "M0 = nu+1\n",
    "tmax = 100000000\n",
    "\n",
    "G = nx.DiGraph()\n",
    "G.add_edge(0,1)\n",
    "G.add_edge(1,2)\n",
    "G.add_edge(1,3)\n",
    "G.add_edge(3,0)\n",
    "\n",
    "t, analytical_heaps = get_heaps_UMT(G, rho, nu, M0, tmax)"
   ]
  },
  {
   "cell_type": "code",
   "execution_count": 19,
   "metadata": {
    "collapsed": true
   },
   "outputs": [],
   "source": [
    "tfit = np.logspace(1, 8, 25)\n",
    "betas_dict = get_moving_fit(analytical_heaps, tfit)"
   ]
  },
  {
   "cell_type": "code",
   "execution_count": 20,
   "metadata": {
    "collapsed": true
   },
   "outputs": [],
   "source": [
    "#Saving\n",
    "df = pd.DataFrame()\n",
    "df['time'] = tfit[1:]\n",
    "df['beta_n1'] = betas_dict[0]\n",
    "df['beta_n2'] = betas_dict[1]\n",
    "df['beta_n3'] = betas_dict[2]\n",
    "df['beta_n4'] = betas_dict[3]\n",
    "\n",
    "filename = \"../results/Ready_to_plot/Heaps_panel_transient_net5.csv\"\n",
    "df.to_csv(filename, header=True, index=None, sep=',')"
   ]
  }
 ],
 "metadata": {
  "kernelspec": {
   "display_name": "Python 3",
   "language": "python",
   "name": "python3"
  },
  "language_info": {
   "codemirror_mode": {
    "name": "ipython",
    "version": 3
   },
   "file_extension": ".py",
   "mimetype": "text/x-python",
   "name": "python",
   "nbconvert_exporter": "python",
   "pygments_lexer": "ipython3",
   "version": "3.8.5"
  }
 },
 "nbformat": 4,
 "nbformat_minor": 2
}
